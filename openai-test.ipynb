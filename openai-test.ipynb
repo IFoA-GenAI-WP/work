{
 "cells": [
  {
   "cell_type": "code",
   "execution_count": 12,
   "metadata": {},
   "outputs": [],
   "source": [
    "from openai import OpenAI\n",
    "import os\n",
    "import base64"
   ]
  },
  {
   "cell_type": "code",
   "execution_count": 13,
   "metadata": {},
   "outputs": [],
   "source": [
    "openai_api_key = os.getenv(\"openai_api_key\")"
   ]
  },
  {
   "cell_type": "code",
   "execution_count": 14,
   "metadata": {},
   "outputs": [],
   "source": [
    "client = OpenAI(api_key=openai_api_key)"
   ]
  },
  {
   "cell_type": "code",
   "execution_count": 15,
   "metadata": {},
   "outputs": [],
   "source": [
    "DENT_IMAGE_PATH = \"dent.jpeg\"\n",
    "\n",
    "def encode_image(image_path):\n",
    "    with open(image_path, \"rb\") as image_file:\n",
    "        return base64.b64encode(image_file.read()).decode(\"utf-8\")\n",
    "\n",
    "dent_base64_image = encode_image(DENT_IMAGE_PATH)\n",
    "\n",
    "FRONT_IMAGE_PATH = \"front.jpeg\"\n",
    "\n",
    "front_base64_image = encode_image(FRONT_IMAGE_PATH)"
   ]
  },
  {
   "cell_type": "code",
   "execution_count": 16,
   "metadata": {},
   "outputs": [
    {
     "name": "stdout",
     "output_type": "stream",
     "text": [
      "### Description of Damage\n",
      "\n",
      "**Image 1:**\n",
      "- The damage is located on the driver's side door.\n",
      "- There are several noticeable scratches and scuffs on the door.\n",
      "- The scratches appear to be deep enough to have removed the paint, exposing the underlying material.\n",
      "- There is no visible denting or structural damage to the door itself.\n",
      "\n",
      "**Image 2:**\n",
      "- The car is a black Toyota, likely a Yaris or a similar model.\n",
      "- The rest of the car appears to be in good condition with no visible damage.\n",
      "\n",
      "### Estimation of Repair Costs\n",
      "\n",
      "Given that the car is a Toyota, which is generally considered a mid-range brand in terms of repair costs, and considering the location (London), the following factors will influence the repair costs:\n",
      "\n",
      "1. **Scratch Repair and Repainting:**\n",
      "   - The scratches will need to be sanded down, filled, and repainted.\n",
      "   - The cost of repainting a door panel in London can range from £150 to £300, depending on the body shop and the quality of the paint used.\n",
      "\n",
      "2. **Labour Costs:**\n",
      "   - Labour costs in London are generally higher than in other parts of the UK.\n",
      "   - Expect to pay around £50 to £100 per hour for labour.\n",
      "   - The repair job might take around 2 to 4 hours, depending on the extent of the damage and the efficiency of the body shop.\n",
      "\n",
      "3. **Additional Costs:**\n",
      "   - If the scratches are deep and have caused any minor structural damage, additional costs might be incurred for filler material and extra labour.\n",
      "   - This could add an extra £50 to £100 to the total cost.\n",
      "\n",
      "### Total Estimated Cost\n",
      "\n",
      "- **Scratch Repair and Repainting:** £150 - £300\n",
      "- **Labour Costs (2 to 4 hours):** £100 - £400\n",
      "- **Additional Costs:** £50 - £100\n",
      "\n",
      "**Total Estimated Repair Cost:** £300 - £800\n",
      "\n",
      "This is a rough estimate, and actual costs may vary based on the specific body shop and any additional unforeseen damage. It is advisable to get a few quotes from different repair shops in London to get a more accurate estimate.\n"
     ]
    }
   ],
   "source": [
    "MODEL = \"gpt-4o\"\n",
    "response = client.chat.completions.create(\n",
    "    model=MODEL,\n",
    "    messages=[\n",
    "        {\"role\": \"system\", \"content\": \"You are a helpful assistant that responds in Markdown. Help me approximate the claim size based on these images\"},\n",
    "        {\"role\": \"user\", \"content\": [\n",
    "            {\"type\": \"text\", \"text\": \"Based on repair costs in London and these two images, can you provide me an estimate of the repair costs? Factor in the brand, make and model of the car\"\n",
    "             \"Can you also describe the damage in detail?\"},\n",
    "            {\"type\": \"image_url\", \"image_url\": {\n",
    "                \"url\": f\"data:image/png;base64,{dent_base64_image}\"}\n",
    "            },\n",
    "            {\"type\": \"image_url\", \"image_url\": {\n",
    "                \"url\": f\"data:image/png;base64,{front_base64_image}\"}\n",
    "            }\n",
    "        ]}\n",
    "    ],\n",
    "    temperature=0.0,\n",
    ")\n",
    "print(response.choices[0].message.content)"
   ]
  },
  {
   "cell_type": "code",
   "execution_count": null,
   "metadata": {},
   "outputs": [],
   "source": []
  }
 ],
 "metadata": {
  "kernelspec": {
   "display_name": "openai_test",
   "language": "python",
   "name": "python3"
  },
  "language_info": {
   "codemirror_mode": {
    "name": "ipython",
    "version": 3
   },
   "file_extension": ".py",
   "mimetype": "text/x-python",
   "name": "python",
   "nbconvert_exporter": "python",
   "pygments_lexer": "ipython3",
   "version": "3.10.14"
  }
 },
 "nbformat": 4,
 "nbformat_minor": 2
}
